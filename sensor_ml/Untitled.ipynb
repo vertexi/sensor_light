{
 "cells": [
  {
   "cell_type": "code",
   "execution_count": 1,
   "metadata": {},
   "outputs": [],
   "source": [
    "import pandas as pd\n",
    "import numpy as np\n",
    "\n",
    "import matplotlib.pyplot as plt\n",
    "\n",
    "from sklearn.datasets import load_iris\n",
    "from sklearn.linear_model import LogisticRegression\n",
    "from sklearn import preprocessing\n",
    "from sklearn.model_selection import train_test_split"
   ]
  },
  {
   "cell_type": "code",
   "execution_count": 2,
   "metadata": {},
   "outputs": [],
   "source": [
    "data = np.zeros([731, 5])"
   ]
  },
  {
   "cell_type": "code",
   "execution_count": 3,
   "metadata": {},
   "outputs": [],
   "source": [
    "f = open('datat.log')\n",
    "row = -1\n",
    "col = 0\n",
    "for line in f.readlines():\n",
    "    string = line.split(\":\")\n",
    "    if len(string) != 1:\n",
    "        data[row, col] = string[1]\n",
    "        col = col + 1\n",
    "    else:\n",
    "        row = row + 1\n",
    "        col = 0"
   ]
  },
  {
   "cell_type": "code",
   "execution_count": 4,
   "metadata": {},
   "outputs": [
    {
     "data": {
      "text/plain": [
       "array([[ 72.,   2.,  51., -58.,  45.],\n",
       "       [ 72.,   2., 101., -57.,  45.],\n",
       "       [ 72.,   2., 151., -57.,  45.],\n",
       "       ...,\n",
       "       [378.,   4., 201., -45.,  46.],\n",
       "       [378.,   4., 251., -41.,  47.],\n",
       "       [378.,   4.,   1., -42.,  45.]])"
      ]
     },
     "execution_count": 4,
     "metadata": {},
     "output_type": "execute_result"
    }
   ],
   "source": [
    "data"
   ]
  },
  {
   "cell_type": "code",
   "execution_count": 5,
   "metadata": {},
   "outputs": [
    {
     "data": {
      "text/html": [
       "<div>\n",
       "<style scoped>\n",
       "    .dataframe tbody tr th:only-of-type {\n",
       "        vertical-align: middle;\n",
       "    }\n",
       "\n",
       "    .dataframe tbody tr th {\n",
       "        vertical-align: top;\n",
       "    }\n",
       "\n",
       "    .dataframe thead th {\n",
       "        text-align: right;\n",
       "    }\n",
       "</style>\n",
       "<table border=\"1\" class=\"dataframe\">\n",
       "  <thead>\n",
       "    <tr style=\"text-align: right;\">\n",
       "      <th></th>\n",
       "      <th>tx_data</th>\n",
       "      <th>sender</th>\n",
       "      <th>next_freq</th>\n",
       "      <th>rssi</th>\n",
       "      <th>lqi</th>\n",
       "    </tr>\n",
       "  </thead>\n",
       "  <tbody>\n",
       "    <tr>\n",
       "      <th>0</th>\n",
       "      <td>72.0</td>\n",
       "      <td>2.0</td>\n",
       "      <td>51.0</td>\n",
       "      <td>-58.0</td>\n",
       "      <td>45.0</td>\n",
       "    </tr>\n",
       "    <tr>\n",
       "      <th>1</th>\n",
       "      <td>72.0</td>\n",
       "      <td>2.0</td>\n",
       "      <td>101.0</td>\n",
       "      <td>-57.0</td>\n",
       "      <td>45.0</td>\n",
       "    </tr>\n",
       "    <tr>\n",
       "      <th>2</th>\n",
       "      <td>72.0</td>\n",
       "      <td>2.0</td>\n",
       "      <td>151.0</td>\n",
       "      <td>-57.0</td>\n",
       "      <td>45.0</td>\n",
       "    </tr>\n",
       "    <tr>\n",
       "      <th>3</th>\n",
       "      <td>72.0</td>\n",
       "      <td>2.0</td>\n",
       "      <td>201.0</td>\n",
       "      <td>-52.0</td>\n",
       "      <td>45.0</td>\n",
       "    </tr>\n",
       "    <tr>\n",
       "      <th>4</th>\n",
       "      <td>72.0</td>\n",
       "      <td>2.0</td>\n",
       "      <td>251.0</td>\n",
       "      <td>-51.0</td>\n",
       "      <td>45.0</td>\n",
       "    </tr>\n",
       "    <tr>\n",
       "      <th>...</th>\n",
       "      <td>...</td>\n",
       "      <td>...</td>\n",
       "      <td>...</td>\n",
       "      <td>...</td>\n",
       "      <td>...</td>\n",
       "    </tr>\n",
       "    <tr>\n",
       "      <th>726</th>\n",
       "      <td>378.0</td>\n",
       "      <td>4.0</td>\n",
       "      <td>101.0</td>\n",
       "      <td>-45.0</td>\n",
       "      <td>47.0</td>\n",
       "    </tr>\n",
       "    <tr>\n",
       "      <th>727</th>\n",
       "      <td>378.0</td>\n",
       "      <td>4.0</td>\n",
       "      <td>151.0</td>\n",
       "      <td>-47.0</td>\n",
       "      <td>47.0</td>\n",
       "    </tr>\n",
       "    <tr>\n",
       "      <th>728</th>\n",
       "      <td>378.0</td>\n",
       "      <td>4.0</td>\n",
       "      <td>201.0</td>\n",
       "      <td>-45.0</td>\n",
       "      <td>46.0</td>\n",
       "    </tr>\n",
       "    <tr>\n",
       "      <th>729</th>\n",
       "      <td>378.0</td>\n",
       "      <td>4.0</td>\n",
       "      <td>251.0</td>\n",
       "      <td>-41.0</td>\n",
       "      <td>47.0</td>\n",
       "    </tr>\n",
       "    <tr>\n",
       "      <th>730</th>\n",
       "      <td>378.0</td>\n",
       "      <td>4.0</td>\n",
       "      <td>1.0</td>\n",
       "      <td>-42.0</td>\n",
       "      <td>45.0</td>\n",
       "    </tr>\n",
       "  </tbody>\n",
       "</table>\n",
       "<p>731 rows × 5 columns</p>\n",
       "</div>"
      ],
      "text/plain": [
       "     tx_data  sender  next_freq  rssi   lqi\n",
       "0       72.0     2.0       51.0 -58.0  45.0\n",
       "1       72.0     2.0      101.0 -57.0  45.0\n",
       "2       72.0     2.0      151.0 -57.0  45.0\n",
       "3       72.0     2.0      201.0 -52.0  45.0\n",
       "4       72.0     2.0      251.0 -51.0  45.0\n",
       "..       ...     ...        ...   ...   ...\n",
       "726    378.0     4.0      101.0 -45.0  47.0\n",
       "727    378.0     4.0      151.0 -47.0  47.0\n",
       "728    378.0     4.0      201.0 -45.0  46.0\n",
       "729    378.0     4.0      251.0 -41.0  47.0\n",
       "730    378.0     4.0        1.0 -42.0  45.0\n",
       "\n",
       "[731 rows x 5 columns]"
      ]
     },
     "execution_count": 5,
     "metadata": {},
     "output_type": "execute_result"
    }
   ],
   "source": [
    "data = pd.DataFrame(data, columns=[\"tx_data\", \"sender\", \"next_freq\", \"rssi\", \"lqi\"])\n",
    "data"
   ]
  },
  {
   "cell_type": "code",
   "execution_count": 6,
   "metadata": {},
   "outputs": [
    {
     "data": {
      "text/plain": [
       "378.0    353\n",
       "72.0     289\n",
       "377.0     89\n",
       "Name: tx_data, dtype: int64"
      ]
     },
     "execution_count": 6,
     "metadata": {},
     "output_type": "execute_result"
    }
   ],
   "source": [
    "data['tx_data'].value_counts()"
   ]
  },
  {
   "cell_type": "code",
   "execution_count": 7,
   "metadata": {},
   "outputs": [],
   "source": [
    "data.iloc[:,0][data.iloc[:,0] == 72.0] = 1\n",
    "data.iloc[:,0][data.iloc[:,0] == 377.0] = 2\n",
    "data.iloc[:,0][data.iloc[:,0] == 378.0] = 2"
   ]
  },
  {
   "cell_type": "code",
   "execution_count": 8,
   "metadata": {},
   "outputs": [],
   "source": [
    "data['diff'] = data.sender.diff()\n",
    "data.iloc[0,-1] = -1"
   ]
  },
  {
   "cell_type": "code",
   "execution_count": 9,
   "metadata": {
    "scrolled": true
   },
   "outputs": [
    {
     "data": {
      "text/html": [
       "<div>\n",
       "<style scoped>\n",
       "    .dataframe tbody tr th:only-of-type {\n",
       "        vertical-align: middle;\n",
       "    }\n",
       "\n",
       "    .dataframe tbody tr th {\n",
       "        vertical-align: top;\n",
       "    }\n",
       "\n",
       "    .dataframe thead th {\n",
       "        text-align: right;\n",
       "    }\n",
       "</style>\n",
       "<table border=\"1\" class=\"dataframe\">\n",
       "  <thead>\n",
       "    <tr style=\"text-align: right;\">\n",
       "      <th></th>\n",
       "      <th>tx_data</th>\n",
       "      <th>sender</th>\n",
       "      <th>next_freq</th>\n",
       "      <th>rssi</th>\n",
       "      <th>lqi</th>\n",
       "      <th>diff</th>\n",
       "    </tr>\n",
       "  </thead>\n",
       "  <tbody>\n",
       "    <tr>\n",
       "      <th>0</th>\n",
       "      <td>1.0</td>\n",
       "      <td>2.0</td>\n",
       "      <td>51.0</td>\n",
       "      <td>-58.0</td>\n",
       "      <td>45.0</td>\n",
       "      <td>-1.0</td>\n",
       "    </tr>\n",
       "    <tr>\n",
       "      <th>1</th>\n",
       "      <td>1.0</td>\n",
       "      <td>2.0</td>\n",
       "      <td>101.0</td>\n",
       "      <td>-57.0</td>\n",
       "      <td>45.0</td>\n",
       "      <td>0.0</td>\n",
       "    </tr>\n",
       "    <tr>\n",
       "      <th>2</th>\n",
       "      <td>1.0</td>\n",
       "      <td>2.0</td>\n",
       "      <td>151.0</td>\n",
       "      <td>-57.0</td>\n",
       "      <td>45.0</td>\n",
       "      <td>0.0</td>\n",
       "    </tr>\n",
       "    <tr>\n",
       "      <th>3</th>\n",
       "      <td>1.0</td>\n",
       "      <td>2.0</td>\n",
       "      <td>201.0</td>\n",
       "      <td>-52.0</td>\n",
       "      <td>45.0</td>\n",
       "      <td>0.0</td>\n",
       "    </tr>\n",
       "    <tr>\n",
       "      <th>4</th>\n",
       "      <td>1.0</td>\n",
       "      <td>2.0</td>\n",
       "      <td>251.0</td>\n",
       "      <td>-51.0</td>\n",
       "      <td>45.0</td>\n",
       "      <td>0.0</td>\n",
       "    </tr>\n",
       "    <tr>\n",
       "      <th>...</th>\n",
       "      <td>...</td>\n",
       "      <td>...</td>\n",
       "      <td>...</td>\n",
       "      <td>...</td>\n",
       "      <td>...</td>\n",
       "      <td>...</td>\n",
       "    </tr>\n",
       "    <tr>\n",
       "      <th>726</th>\n",
       "      <td>2.0</td>\n",
       "      <td>4.0</td>\n",
       "      <td>101.0</td>\n",
       "      <td>-45.0</td>\n",
       "      <td>47.0</td>\n",
       "      <td>0.0</td>\n",
       "    </tr>\n",
       "    <tr>\n",
       "      <th>727</th>\n",
       "      <td>2.0</td>\n",
       "      <td>4.0</td>\n",
       "      <td>151.0</td>\n",
       "      <td>-47.0</td>\n",
       "      <td>47.0</td>\n",
       "      <td>0.0</td>\n",
       "    </tr>\n",
       "    <tr>\n",
       "      <th>728</th>\n",
       "      <td>2.0</td>\n",
       "      <td>4.0</td>\n",
       "      <td>201.0</td>\n",
       "      <td>-45.0</td>\n",
       "      <td>46.0</td>\n",
       "      <td>0.0</td>\n",
       "    </tr>\n",
       "    <tr>\n",
       "      <th>729</th>\n",
       "      <td>2.0</td>\n",
       "      <td>4.0</td>\n",
       "      <td>251.0</td>\n",
       "      <td>-41.0</td>\n",
       "      <td>47.0</td>\n",
       "      <td>0.0</td>\n",
       "    </tr>\n",
       "    <tr>\n",
       "      <th>730</th>\n",
       "      <td>2.0</td>\n",
       "      <td>4.0</td>\n",
       "      <td>1.0</td>\n",
       "      <td>-42.0</td>\n",
       "      <td>45.0</td>\n",
       "      <td>0.0</td>\n",
       "    </tr>\n",
       "  </tbody>\n",
       "</table>\n",
       "<p>731 rows × 6 columns</p>\n",
       "</div>"
      ],
      "text/plain": [
       "     tx_data  sender  next_freq  rssi   lqi  diff\n",
       "0        1.0     2.0       51.0 -58.0  45.0  -1.0\n",
       "1        1.0     2.0      101.0 -57.0  45.0   0.0\n",
       "2        1.0     2.0      151.0 -57.0  45.0   0.0\n",
       "3        1.0     2.0      201.0 -52.0  45.0   0.0\n",
       "4        1.0     2.0      251.0 -51.0  45.0   0.0\n",
       "..       ...     ...        ...   ...   ...   ...\n",
       "726      2.0     4.0      101.0 -45.0  47.0   0.0\n",
       "727      2.0     4.0      151.0 -47.0  47.0   0.0\n",
       "728      2.0     4.0      201.0 -45.0  46.0   0.0\n",
       "729      2.0     4.0      251.0 -41.0  47.0   0.0\n",
       "730      2.0     4.0        1.0 -42.0  45.0   0.0\n",
       "\n",
       "[731 rows x 6 columns]"
      ]
     },
     "execution_count": 9,
     "metadata": {},
     "output_type": "execute_result"
    }
   ],
   "source": [
    "data"
   ]
  },
  {
   "cell_type": "code",
   "execution_count": 10,
   "metadata": {},
   "outputs": [
    {
     "data": {
      "text/plain": [
       " 0.0    605\n",
       " 1.0     84\n",
       "-2.0     41\n",
       "-1.0      1\n",
       "Name: diff, dtype: int64"
      ]
     },
     "execution_count": 10,
     "metadata": {},
     "output_type": "execute_result"
    }
   ],
   "source": [
    "data['diff'].value_counts()"
   ]
  },
  {
   "cell_type": "code",
   "execution_count": 11,
   "metadata": {},
   "outputs": [],
   "source": [
    "stacked_data = np.zeros([data['diff'].value_counts()[-2]*3+3, 8])"
   ]
  },
  {
   "cell_type": "code",
   "execution_count": 12,
   "metadata": {},
   "outputs": [],
   "source": [
    "sender = 0\n",
    "row_num = -1\n",
    "for index,row in data.iterrows():\n",
    "    if row['diff'] != 0:\n",
    "        sender = row.sender\n",
    "        row_num += 1\n",
    "    stacked_data[row_num, 0] = row.tx_data\n",
    "    stacked_data[row_num, 1] = sender\n",
    "    if row.next_freq == 51.0:\n",
    "        stacked_data[row_num, 2] = row.rssi\n",
    "    elif row.next_freq == 101.0:\n",
    "        stacked_data[row_num, 3] = row.rssi\n",
    "    elif row.next_freq == 151.0:\n",
    "        stacked_data[row_num, 4] = row.rssi\n",
    "    elif row.next_freq == 201.0:\n",
    "        stacked_data[row_num, 5] = row.rssi\n",
    "    elif row.next_freq == 251.0:\n",
    "        stacked_data[row_num, 6] = row.rssi\n",
    "    elif row.next_freq == 1.0:\n",
    "        stacked_data[row_num, 7] = row.rssi"
   ]
  },
  {
   "cell_type": "code",
   "execution_count": 13,
   "metadata": {
    "scrolled": false
   },
   "outputs": [],
   "source": [
    "stacked_data = stacked_data[:,:-1]"
   ]
  },
  {
   "cell_type": "code",
   "execution_count": 14,
   "metadata": {},
   "outputs": [
    {
     "data": {
      "text/plain": [
       "array([[  1.,   2., -58., -57., -57., -52., -51.],\n",
       "       [  1.,   3., -62., -58., -55., -56., -56.],\n",
       "       [  1.,   4., -57., -53., -49., -47., -49.],\n",
       "       [  1.,   2., -41., -45., -42., -43., -43.],\n",
       "       [  1.,   3., -48., -48., -52., -68., -56.],\n",
       "       [  1.,   4., -44., -46., -47., -50., -50.],\n",
       "       [  1.,   2., -44., -44., -42., -41., -42.],\n",
       "       [  1.,   3., -67., -64., -57., -52., -51.],\n",
       "       [  1.,   4., -55., -53., -53., -56., -52.],\n",
       "       [  1.,   2., -52., -52., -52., -50., -52.],\n",
       "       [  1.,   3., -57., -57., -58., -64., -76.],\n",
       "       [  1.,   4., -60., -55., -59., -56., -57.],\n",
       "       [  1.,   2., -47., -48., -49., -48., -53.],\n",
       "       [  1.,   3., -56., -62., -71., -64., -79.],\n",
       "       [  1.,   4., -59., -61., -59., -55., -61.],\n",
       "       [  1.,   2., -59., -64., -80., -68., -60.],\n",
       "       [  1.,   3., -54., -53., -56., -59., -71.],\n",
       "       [  1.,   4., -57., -52., -48., -46., -48.],\n",
       "       [  1.,   2., -51., -54., -58., -54., -53.],\n",
       "       [  1.,   3., -62., -58., -60., -56., -57.],\n",
       "       [  1.,   4., -53., -53., -56., -66., -78.],\n",
       "       [  1.,   2., -45., -48., -49., -48., -47.],\n",
       "       [  1.,   3., -59., -60., -61., -57., -60.],\n",
       "       [  1.,   4., -41., -41., -41., -42., -48.],\n",
       "       [  1.,   2., -49., -49., -52., -52., -57.],\n",
       "       [  1.,   3., -56., -52., -51., -53., -56.],\n",
       "       [  1.,   4., -44., -45., -45., -45., -44.],\n",
       "       [  1.,   2., -65., -60., -53., -52., -55.],\n",
       "       [  1.,   3., -56., -59., -58., -55., -51.],\n",
       "       [  1.,   4., -46., -48., -47., -45., -44.],\n",
       "       [  1.,   2., -44., -47., -48., -49., -50.],\n",
       "       [  1.,   3., -49., -47., -49., -51., -49.],\n",
       "       [  1.,   4., -44., -46., -47., -47., -49.],\n",
       "       [  1.,   2., -59., -59., -60., -59., -56.],\n",
       "       [  1.,   3., -53., -56., -55., -58., -59.],\n",
       "       [  1.,   4., -51., -52., -52., -53., -61.],\n",
       "       [  1.,   2., -49., -47., -46., -49., -46.],\n",
       "       [  1.,   3., -52., -50., -48., -47., -48.],\n",
       "       [  1.,   4., -60., -66., -77., -68., -75.],\n",
       "       [  1.,   2., -52., -56., -52., -52., -56.],\n",
       "       [  1.,   3., -56., -58., -60., -60., -66.],\n",
       "       [  1.,   4., -56., -47., -48., -49., -52.],\n",
       "       [  1.,   2., -47., -48., -47., -47., -47.],\n",
       "       [  1.,   3., -53., -55., -55., -58., -59.],\n",
       "       [  1.,   4., -52., -53., -56., -59., -71.],\n",
       "       [  1.,   2., -63., -62., -60., -64., -58.],\n",
       "       [  1.,   3., -48., -46., -45., -46., -44.],\n",
       "       [  1.,   4., -51., -48., -45., -42., -42.],\n",
       "       [  1.,   2., -58., -57., -55., -56., -60.],\n",
       "       [  1.,   3., -55., -55., -52., -49., -49.],\n",
       "       [  1.,   4., -58., -58., -55., -58., -58.],\n",
       "       [  2.,   2., -52., -52., -51., -52., -53.],\n",
       "       [  2.,   3., -41., -40., -37., -36., -35.],\n",
       "       [  2.,   4., -49., -46., -46., -45., -45.],\n",
       "       [  2.,   2., -59., -55., -53., -52., -50.],\n",
       "       [  2.,   3., -45., -43., -41., -40., -39.],\n",
       "       [  2.,   4., -55., -52., -52., -55., -64.],\n",
       "       [  2.,   2., -64., -72., -76., -74., -64.],\n",
       "       [  2.,   3., -48., -46., -41., -39., -38.],\n",
       "       [  2.,   4., -51., -47., -46., -47., -49.],\n",
       "       [  2.,   2., -55., -53., -51., -51., -51.],\n",
       "       [  2.,   3., -45., -43., -44., -49., -47.],\n",
       "       [  2.,   4., -64., -57., -52., -51., -53.],\n",
       "       [  2.,   2., -47., -46., -46., -46., -46.],\n",
       "       [  2.,   3., -37., -35., -34., -32., -32.],\n",
       "       [  2.,   4., -38., -37., -38., -37., -36.],\n",
       "       [  2.,   2., -49., -49., -48., -49., -49.],\n",
       "       [  2.,   3., -36., -35., -34., -33., -33.],\n",
       "       [  2.,   4., -44., -41., -40., -39., -40.],\n",
       "       [  2.,   2., -56., -58., -63., -62., -65.],\n",
       "       [  2.,   3., -43., -41., -42., -44., -42.],\n",
       "       [  2.,   4., -38., -38., -38., -38., -37.],\n",
       "       [  2.,   2., -48., -48., -48., -47., -47.],\n",
       "       [  2.,   3., -43., -41., -39., -37., -36.],\n",
       "       [  2.,   4., -35., -35., -35., -35., -35.],\n",
       "       [  2.,   2., -51., -50., -49., -48., -47.],\n",
       "       [  2.,   3., -48., -46., -42., -39., -38.],\n",
       "       [  2.,   4., -41., -41., -41., -41., -42.],\n",
       "       [  2.,   2., -45., -44., -42., -42., -41.],\n",
       "       [  2.,   3., -45., -44., -44., -44., -42.],\n",
       "       [  2.,   4., -41., -41., -40., -40., -39.],\n",
       "       [  2.,   2., -57., -54., -53., -56., -61.],\n",
       "       [  2.,   3., -47., -45., -44., -44., -45.],\n",
       "       [  2.,   4., -40., -39., -39., -38., -39.],\n",
       "       [  2.,   2., -47., -47., -47., -47., -47.],\n",
       "       [  2.,   3., -45., -43., -40., -39., -40.],\n",
       "       [  2.,   4., -42., -41., -41., -39., -39.],\n",
       "       [  2.,   2., -51., -50., -51., -51., -48.],\n",
       "       [  2.,   3., -45., -44., -41., -38., -37.],\n",
       "       [  2.,   4., -42., -41., -39., -38., -36.],\n",
       "       [  2.,   2., -65., -60., -57., -56., -54.],\n",
       "       [  2.,   3., -56., -56., -49., -45., -44.],\n",
       "       [  2.,   4., -38., -38., -38., -38., -38.],\n",
       "       [  2.,   2., -59., -57., -58., -82., -55.],\n",
       "       [  2.,   3., -41., -40., -40., -40., -41.],\n",
       "       [  2.,   4., -47., -46., -46., -45., -44.],\n",
       "       [  2.,   2., -54., -55., -60., -55., -48.],\n",
       "       [  2.,   3., -45., -40., -38., -36., -36.],\n",
       "       [  2.,   4., -44., -44., -45., -47., -52.],\n",
       "       [  2.,   2., -54., -53., -49., -47., -47.],\n",
       "       [  2.,   3., -39., -37., -35., -36., -38.],\n",
       "       [  2.,   4., -40., -40., -41., -41., -41.],\n",
       "       [  2.,   2., -54., -51., -47., -46., -44.],\n",
       "       [  2.,   3., -47., -48., -47., -44., -44.],\n",
       "       [  2.,   4., -59., -58., -53., -54., -50.],\n",
       "       [  2.,   2., -47., -49., -50., -52., -56.],\n",
       "       [  2.,   3., -46., -46., -44., -44., -46.],\n",
       "       [  2.,   4., -37., -37., -37., -38., -40.],\n",
       "       [  2.,   2., -51., -53., -49., -46., -45.],\n",
       "       [  2.,   3., -54., -56., -59., -60., -54.],\n",
       "       [  2.,   4., -41., -41., -39., -37., -35.],\n",
       "       [  2.,   2., -41., -41., -41., -41., -40.],\n",
       "       [  2.,   3., -41., -47., -52., -71., -61.],\n",
       "       [  2.,   4., -42., -43., -42., -43., -43.],\n",
       "       [  2.,   2., -47., -46., -46., -43., -41.],\n",
       "       [  2.,   3., -50., -46., -44., -44., -44.],\n",
       "       [  2.,   4., -46., -45., -43., -42., -43.],\n",
       "       [  2.,   2., -48., -47., -46., -45., -44.],\n",
       "       [  2.,   3., -47., -48., -51., -61., -52.],\n",
       "       [  2.,   4., -39., -40., -41., -42., -43.],\n",
       "       [  2.,   2., -46., -43., -41., -40., -39.],\n",
       "       [  2.,   3., -41., -40., -39., -40., -41.],\n",
       "       [  2.,   4., -40., -40., -39., -38., -35.],\n",
       "       [  2.,   2., -41., -40., -39., -37., -35.],\n",
       "       [  2.,   3., -51., -46., -44., -42., -41.],\n",
       "       [  2.,   4., -43., -45., -47., -45., -41.]])"
      ]
     },
     "execution_count": 14,
     "metadata": {},
     "output_type": "execute_result"
    }
   ],
   "source": [
    "stacked_data"
   ]
  },
  {
   "cell_type": "code",
   "execution_count": 15,
   "metadata": {},
   "outputs": [],
   "source": [
    "stacked_data2 = np.zeros([int(stacked_data.shape[0]/3*5), 5])"
   ]
  },
  {
   "cell_type": "code",
   "execution_count": 16,
   "metadata": {},
   "outputs": [
    {
     "data": {
      "text/plain": [
       "(210, 5)"
      ]
     },
     "execution_count": 16,
     "metadata": {},
     "output_type": "execute_result"
    }
   ],
   "source": [
    "stacked_data2.shape"
   ]
  },
  {
   "cell_type": "code",
   "execution_count": 17,
   "metadata": {},
   "outputs": [],
   "source": [
    "data_row = 0\n",
    "row_num = 0\n",
    "while row_num < stacked_data.shape[0]:\n",
    "    col_num = 2\n",
    "    while col_num < 7:\n",
    "        stacked_data2[data_row, 0] = stacked_data[row_num, 0]\n",
    "        stacked_data2[data_row, 1] = col_num-1\n",
    "        stacked_data2[data_row, 2] = stacked_data[row_num, col_num]\n",
    "        stacked_data2[data_row, 3] = stacked_data[row_num+1, col_num]\n",
    "        stacked_data2[data_row, 4] = stacked_data[row_num+2, col_num]\n",
    "        col_num += 1\n",
    "        data_row += 1\n",
    "    row_num += 3"
   ]
  },
  {
   "cell_type": "code",
   "execution_count": 18,
   "metadata": {},
   "outputs": [
    {
     "data": {
      "text/plain": [
       "array([[  1.,   1., -58., -62., -57.],\n",
       "       [  1.,   2., -57., -58., -53.],\n",
       "       [  1.,   3., -57., -55., -49.],\n",
       "       ...,\n",
       "       [  2.,   3., -39., -44., -47.],\n",
       "       [  2.,   4., -37., -42., -45.],\n",
       "       [  2.,   5., -35., -41., -41.]])"
      ]
     },
     "execution_count": 18,
     "metadata": {},
     "output_type": "execute_result"
    }
   ],
   "source": [
    "stacked_data2"
   ]
  },
  {
   "cell_type": "code",
   "execution_count": 19,
   "metadata": {},
   "outputs": [],
   "source": [
    "np.savetxt(\"result.csv\", stacked_data2, delimiter=\",\")"
   ]
  },
  {
   "cell_type": "code",
   "execution_count": 20,
   "metadata": {},
   "outputs": [
    {
     "data": {
      "text/html": [
       "<div>\n",
       "<style scoped>\n",
       "    .dataframe tbody tr th:only-of-type {\n",
       "        vertical-align: middle;\n",
       "    }\n",
       "\n",
       "    .dataframe tbody tr th {\n",
       "        vertical-align: top;\n",
       "    }\n",
       "\n",
       "    .dataframe thead th {\n",
       "        text-align: right;\n",
       "    }\n",
       "</style>\n",
       "<table border=\"1\" class=\"dataframe\">\n",
       "  <thead>\n",
       "    <tr style=\"text-align: right;\">\n",
       "      <th></th>\n",
       "      <th>0</th>\n",
       "      <th>1</th>\n",
       "      <th>2</th>\n",
       "      <th>3</th>\n",
       "      <th>4</th>\n",
       "    </tr>\n",
       "  </thead>\n",
       "  <tbody>\n",
       "    <tr>\n",
       "      <th>0</th>\n",
       "      <td>1.0</td>\n",
       "      <td>1.0</td>\n",
       "      <td>-58.0</td>\n",
       "      <td>-62.0</td>\n",
       "      <td>-57.0</td>\n",
       "    </tr>\n",
       "    <tr>\n",
       "      <th>1</th>\n",
       "      <td>1.0</td>\n",
       "      <td>2.0</td>\n",
       "      <td>-57.0</td>\n",
       "      <td>-58.0</td>\n",
       "      <td>-53.0</td>\n",
       "    </tr>\n",
       "    <tr>\n",
       "      <th>2</th>\n",
       "      <td>1.0</td>\n",
       "      <td>3.0</td>\n",
       "      <td>-57.0</td>\n",
       "      <td>-55.0</td>\n",
       "      <td>-49.0</td>\n",
       "    </tr>\n",
       "    <tr>\n",
       "      <th>3</th>\n",
       "      <td>1.0</td>\n",
       "      <td>4.0</td>\n",
       "      <td>-52.0</td>\n",
       "      <td>-56.0</td>\n",
       "      <td>-47.0</td>\n",
       "    </tr>\n",
       "    <tr>\n",
       "      <th>4</th>\n",
       "      <td>1.0</td>\n",
       "      <td>5.0</td>\n",
       "      <td>-51.0</td>\n",
       "      <td>-56.0</td>\n",
       "      <td>-49.0</td>\n",
       "    </tr>\n",
       "    <tr>\n",
       "      <th>...</th>\n",
       "      <td>...</td>\n",
       "      <td>...</td>\n",
       "      <td>...</td>\n",
       "      <td>...</td>\n",
       "      <td>...</td>\n",
       "    </tr>\n",
       "    <tr>\n",
       "      <th>205</th>\n",
       "      <td>2.0</td>\n",
       "      <td>1.0</td>\n",
       "      <td>-41.0</td>\n",
       "      <td>-51.0</td>\n",
       "      <td>-43.0</td>\n",
       "    </tr>\n",
       "    <tr>\n",
       "      <th>206</th>\n",
       "      <td>2.0</td>\n",
       "      <td>2.0</td>\n",
       "      <td>-40.0</td>\n",
       "      <td>-46.0</td>\n",
       "      <td>-45.0</td>\n",
       "    </tr>\n",
       "    <tr>\n",
       "      <th>207</th>\n",
       "      <td>2.0</td>\n",
       "      <td>3.0</td>\n",
       "      <td>-39.0</td>\n",
       "      <td>-44.0</td>\n",
       "      <td>-47.0</td>\n",
       "    </tr>\n",
       "    <tr>\n",
       "      <th>208</th>\n",
       "      <td>2.0</td>\n",
       "      <td>4.0</td>\n",
       "      <td>-37.0</td>\n",
       "      <td>-42.0</td>\n",
       "      <td>-45.0</td>\n",
       "    </tr>\n",
       "    <tr>\n",
       "      <th>209</th>\n",
       "      <td>2.0</td>\n",
       "      <td>5.0</td>\n",
       "      <td>-35.0</td>\n",
       "      <td>-41.0</td>\n",
       "      <td>-41.0</td>\n",
       "    </tr>\n",
       "  </tbody>\n",
       "</table>\n",
       "<p>210 rows × 5 columns</p>\n",
       "</div>"
      ],
      "text/plain": [
       "       0    1     2     3     4\n",
       "0    1.0  1.0 -58.0 -62.0 -57.0\n",
       "1    1.0  2.0 -57.0 -58.0 -53.0\n",
       "2    1.0  3.0 -57.0 -55.0 -49.0\n",
       "3    1.0  4.0 -52.0 -56.0 -47.0\n",
       "4    1.0  5.0 -51.0 -56.0 -49.0\n",
       "..   ...  ...   ...   ...   ...\n",
       "205  2.0  1.0 -41.0 -51.0 -43.0\n",
       "206  2.0  2.0 -40.0 -46.0 -45.0\n",
       "207  2.0  3.0 -39.0 -44.0 -47.0\n",
       "208  2.0  4.0 -37.0 -42.0 -45.0\n",
       "209  2.0  5.0 -35.0 -41.0 -41.0\n",
       "\n",
       "[210 rows x 5 columns]"
      ]
     },
     "execution_count": 20,
     "metadata": {},
     "output_type": "execute_result"
    }
   ],
   "source": [
    "stacked_data2_frame = pd.DataFrame(stacked_data2)\n",
    "stacked_data2_frame"
   ]
  },
  {
   "cell_type": "code",
   "execution_count": 21,
   "metadata": {},
   "outputs": [],
   "source": [
    "freq1 = stacked_data2_frame[stacked_data2_frame[1] == 1]\n",
    "freq2 = stacked_data2_frame[stacked_data2_frame[1] == 2]\n",
    "freq3 = stacked_data2_frame[stacked_data2_frame[1] == 3]\n",
    "freq4 = stacked_data2_frame[stacked_data2_frame[1] == 4]"
   ]
  },
  {
   "cell_type": "code",
   "execution_count": 36,
   "metadata": {},
   "outputs": [],
   "source": [
    "final_freq = pd.concat([freq1.reset_index(), freq2.reset_index(), freq3.reset_index(), freq4.reset_index()], axis=1)\n",
    "final_freq = final_freq.iloc[:,[1,3,4,5,9,10,11,15,16,17,21,22,23]]"
   ]
  },
  {
   "cell_type": "code",
   "execution_count": 22,
   "metadata": {},
   "outputs": [],
   "source": [
    "final_freq = pd.concat([freq1.reset_index(), freq4.reset_index()], axis=1)\n",
    "final_freq = final_freq.iloc[:,[1,3,4,5,9,10,11]]"
   ]
  },
  {
   "cell_type": "code",
   "execution_count": 23,
   "metadata": {},
   "outputs": [],
   "source": [
    "X = np.asarray(final_freq.iloc[:,1:])\n",
    "y = np.asarray(final_freq.iloc[:,0])"
   ]
  },
  {
   "cell_type": "code",
   "execution_count": 25,
   "metadata": {},
   "outputs": [
    {
     "data": {
      "text/plain": [
       "array([[-58., -62., -57., -52., -56., -47.],\n",
       "       [-41., -48., -44., -43., -68., -50.],\n",
       "       [-44., -67., -55., -41., -52., -56.],\n",
       "       [-52., -57., -60., -50., -64., -56.],\n",
       "       [-47., -56., -59., -48., -64., -55.],\n",
       "       [-59., -54., -57., -68., -59., -46.],\n",
       "       [-51., -62., -53., -54., -56., -66.],\n",
       "       [-45., -59., -41., -48., -57., -42.],\n",
       "       [-49., -56., -44., -52., -53., -45.],\n",
       "       [-65., -56., -46., -52., -55., -45.],\n",
       "       [-44., -49., -44., -49., -51., -47.],\n",
       "       [-59., -53., -51., -59., -58., -53.],\n",
       "       [-49., -52., -60., -49., -47., -68.],\n",
       "       [-52., -56., -56., -52., -60., -49.],\n",
       "       [-47., -53., -52., -47., -58., -59.],\n",
       "       [-63., -48., -51., -64., -46., -42.],\n",
       "       [-58., -55., -58., -56., -49., -58.],\n",
       "       [-52., -41., -49., -52., -36., -45.],\n",
       "       [-59., -45., -55., -52., -40., -55.],\n",
       "       [-64., -48., -51., -74., -39., -47.],\n",
       "       [-55., -45., -64., -51., -49., -51.],\n",
       "       [-47., -37., -38., -46., -32., -37.],\n",
       "       [-49., -36., -44., -49., -33., -39.],\n",
       "       [-56., -43., -38., -62., -44., -38.],\n",
       "       [-48., -43., -35., -47., -37., -35.],\n",
       "       [-51., -48., -41., -48., -39., -41.],\n",
       "       [-45., -45., -41., -42., -44., -40.],\n",
       "       [-57., -47., -40., -56., -44., -38.],\n",
       "       [-47., -45., -42., -47., -39., -39.],\n",
       "       [-51., -45., -42., -51., -38., -38.],\n",
       "       [-65., -56., -38., -56., -45., -38.],\n",
       "       [-59., -41., -47., -82., -40., -45.],\n",
       "       [-54., -45., -44., -55., -36., -47.],\n",
       "       [-54., -39., -40., -47., -36., -41.],\n",
       "       [-54., -47., -59., -46., -44., -54.],\n",
       "       [-47., -46., -37., -52., -44., -38.],\n",
       "       [-51., -54., -41., -46., -60., -37.],\n",
       "       [-41., -41., -42., -41., -71., -43.],\n",
       "       [-47., -50., -46., -43., -44., -42.],\n",
       "       [-48., -47., -39., -45., -61., -42.],\n",
       "       [-46., -41., -40., -40., -40., -38.],\n",
       "       [-41., -51., -43., -37., -42., -45.]])"
      ]
     },
     "execution_count": 25,
     "metadata": {},
     "output_type": "execute_result"
    }
   ],
   "source": [
    "X"
   ]
  },
  {
   "cell_type": "code",
   "execution_count": 26,
   "metadata": {},
   "outputs": [],
   "source": [
    "scaler = preprocessing.StandardScaler().fit(X)\n",
    "X_scaled = scaler.transform(X)"
   ]
  },
  {
   "cell_type": "code",
   "execution_count": 27,
   "metadata": {},
   "outputs": [
    {
     "data": {
      "text/plain": [
       "array([-51.69047619, -49.26190476, -47.23809524, -51.21428571,\n",
       "       -48.33333333, -46.11904762])"
      ]
     },
     "execution_count": 27,
     "metadata": {},
     "output_type": "execute_result"
    }
   ],
   "source": [
    "scaler.mean_"
   ]
  },
  {
   "cell_type": "code",
   "execution_count": 28,
   "metadata": {},
   "outputs": [
    {
     "data": {
      "text/plain": [
       "array([ 6.48620549,  7.00700168,  7.7699345 ,  8.70012511, 10.04671628,\n",
       "        7.9498499 ])"
      ]
     },
     "execution_count": 28,
     "metadata": {},
     "output_type": "execute_result"
    }
   ],
   "source": [
    "scaler.scale_"
   ]
  },
  {
   "cell_type": "code",
   "execution_count": 29,
   "metadata": {},
   "outputs": [],
   "source": [
    "X_train, X_test, y_train, y_test = train_test_split(X_scaled, y, stratify=y, test_size=0.3)"
   ]
  },
  {
   "cell_type": "code",
   "execution_count": 48,
   "metadata": {},
   "outputs": [],
   "source": [
    "clf = LogisticRegression(random_state=0).fit(X_train, y_train)"
   ]
  },
  {
   "cell_type": "code",
   "execution_count": 49,
   "metadata": {
    "scrolled": true
   },
   "outputs": [
    {
     "data": {
      "text/plain": [
       "0.9285714285714286"
      ]
     },
     "execution_count": 49,
     "metadata": {},
     "output_type": "execute_result"
    }
   ],
   "source": [
    "clf.score(X_scaled, y)"
   ]
  },
  {
   "cell_type": "code",
   "execution_count": 50,
   "metadata": {},
   "outputs": [
    {
     "data": {
      "text/plain": [
       "0.8461538461538461"
      ]
     },
     "execution_count": 50,
     "metadata": {},
     "output_type": "execute_result"
    }
   ],
   "source": [
    "clf.score(X_test, y_test)"
   ]
  },
  {
   "cell_type": "code",
   "execution_count": 51,
   "metadata": {
    "scrolled": true
   },
   "outputs": [
    {
     "data": {
      "text/plain": [
       "array([[-0.33613883,  1.53720366,  0.40401378,  0.64988429,  1.01556114,\n",
       "         0.7508203 ]])"
      ]
     },
     "execution_count": 51,
     "metadata": {},
     "output_type": "execute_result"
    }
   ],
   "source": [
    "clf.coef_"
   ]
  },
  {
   "cell_type": "code",
   "execution_count": 34,
   "metadata": {
    "scrolled": true
   },
   "outputs": [
    {
     "data": {
      "text/plain": [
       "array([0.61368275])"
      ]
     },
     "execution_count": 34,
     "metadata": {},
     "output_type": "execute_result"
    }
   ],
   "source": [
    "clf.intercept_"
   ]
  },
  {
   "cell_type": "code",
   "execution_count": 35,
   "metadata": {},
   "outputs": [
    {
     "data": {
      "text/plain": [
       "array([[0.15268401, 0.84731599],\n",
       "       [0.27871853, 0.72128147],\n",
       "       [0.98459586, 0.01540414],\n",
       "       [0.02906974, 0.97093026],\n",
       "       [0.0254735 , 0.9745265 ],\n",
       "       [0.37965043, 0.62034957],\n",
       "       [0.41672219, 0.58327781],\n",
       "       [0.9292975 , 0.0707025 ],\n",
       "       [0.99025028, 0.00974972],\n",
       "       [0.5164329 , 0.4835671 ],\n",
       "       [0.00158946, 0.99841054],\n",
       "       [0.18758351, 0.81241649],\n",
       "       [0.98018872, 0.01981128]])"
      ]
     },
     "execution_count": 35,
     "metadata": {},
     "output_type": "execute_result"
    }
   ],
   "source": [
    "clf.predict_proba(X_test)"
   ]
  },
  {
   "cell_type": "code",
   "execution_count": 99,
   "metadata": {},
   "outputs": [
    {
     "data": {
      "text/plain": [
       "array([1., 2., 2., 2., 1., 2., 1., 1., 2., 2., 1., 2., 2.])"
      ]
     },
     "execution_count": 99,
     "metadata": {},
     "output_type": "execute_result"
    }
   ],
   "source": [
    "y_test"
   ]
  },
  {
   "cell_type": "code",
   "execution_count": 91,
   "metadata": {},
   "outputs": [
    {
     "data": {
      "text/plain": [
       "array([ 0.41479972, -0.3907656 , -1.64247263,  0.25451194,  0.13271335,\n",
       "       -2.75237302])"
      ]
     },
     "execution_count": 91,
     "metadata": {},
     "output_type": "execute_result"
    }
   ],
   "source": [
    "X_test[0,:]"
   ]
  },
  {
   "cell_type": "code",
   "execution_count": 89,
   "metadata": {},
   "outputs": [
    {
     "data": {
      "text/plain": [
       "array([[-0.44268162,  1.38089719,  0.27767763,  0.56391309,  0.87230852,\n",
       "         0.60084217]])"
      ]
     },
     "execution_count": 89,
     "metadata": {},
     "output_type": "execute_result"
    }
   ],
   "source": [
    "clf.coef_"
   ]
  },
  {
   "cell_type": "code",
   "execution_count": 77,
   "metadata": {},
   "outputs": [],
   "source": [
    "temp = np.array([-54, -50, -48, -51, -59, -68])"
   ]
  },
  {
   "cell_type": "code",
   "execution_count": 78,
   "metadata": {},
   "outputs": [
    {
     "data": {
      "text/plain": [
       "array([-54, -50, -48, -51, -59, -68])"
      ]
     },
     "execution_count": 78,
     "metadata": {},
     "output_type": "execute_result"
    }
   ],
   "source": [
    "temp"
   ]
  },
  {
   "cell_type": "code",
   "execution_count": 79,
   "metadata": {},
   "outputs": [],
   "source": [
    "temp = scaler.transform(temp[np.newaxis,:])"
   ]
  },
  {
   "cell_type": "code",
   "execution_count": 80,
   "metadata": {},
   "outputs": [
    {
     "data": {
      "text/plain": [
       "array([[-0.35606701, -0.10533681, -0.09805807,  0.02463019, -1.06170677,\n",
       "        -2.75237302]])"
      ]
     },
     "execution_count": 80,
     "metadata": {},
     "output_type": "execute_result"
    }
   ],
   "source": [
    "temp"
   ]
  },
  {
   "cell_type": "code",
   "execution_count": 81,
   "metadata": {},
   "outputs": [],
   "source": [
    "temp_coef = np.array([-0.4427, 1.3809, 0.2777, 0.5639, 0.8723, 0.6008])\n",
    "temp_inter = 0.8034"
   ]
  },
  {
   "cell_type": "code",
   "execution_count": 82,
   "metadata": {
    "scrolled": true
   },
   "outputs": [
    {
     "data": {
      "text/plain": [
       "0.14460925940174876"
      ]
     },
     "execution_count": 82,
     "metadata": {},
     "output_type": "execute_result"
    }
   ],
   "source": [
    "1/(1+np.exp(-1*(np.sum(temp*temp_coef)+temp_inter)))"
   ]
  },
  {
   "cell_type": "code",
   "execution_count": 98,
   "metadata": {
    "scrolled": true
   },
   "outputs": [
    {
     "data": {
      "text/plain": [
       "array([0.14549339])"
      ]
     },
     "execution_count": 98,
     "metadata": {},
     "output_type": "execute_result"
    }
   ],
   "source": [
    "1/(1+np.exp(-1*(np.sum(X_test[0,:]*clf.coef_)+clf.intercept_)))"
   ]
  },
  {
   "cell_type": "code",
   "execution_count": 97,
   "metadata": {},
   "outputs": [
    {
     "data": {
      "text/plain": [
       "array([1., 2., 2., 2., 1., 2., 1., 1., 2., 2., 1., 2., 2.])"
      ]
     },
     "execution_count": 97,
     "metadata": {},
     "output_type": "execute_result"
    }
   ],
   "source": [
    "y_test"
   ]
  },
  {
   "cell_type": "code",
   "execution_count": 49,
   "metadata": {},
   "outputs": [],
   "source": [
    "np.savetxt(\"freq1.csv\", np.concatenate([y[:,np.newaxis],X_scaled],axis=1), delimiter=\",\")"
   ]
  },
  {
   "cell_type": "code",
   "execution_count": null,
   "metadata": {},
   "outputs": [],
   "source": []
  },
  {
   "cell_type": "code",
   "execution_count": 83,
   "metadata": {},
   "outputs": [],
   "source": [
    "from numpy import genfromtxt\n",
    "my_data = genfromtxt('../data/data_recollect.log', delimiter=',')"
   ]
  },
  {
   "cell_type": "code",
   "execution_count": 84,
   "metadata": {
    "scrolled": true
   },
   "outputs": [
    {
     "data": {
      "text/plain": [
       "array([[  1., -54., -47., -42., -39., -52., -51.],\n",
       "       [  1., -45., -40., -47., -50., -55., -52.],\n",
       "       [  1., -47., -43., -50., -47., -52., -45.],\n",
       "       [  1., -51., -52., -51., -51., -47., -45.],\n",
       "       [  1., -52., -49., -46., -42., -58., -59.],\n",
       "       [  1., -52., -59., -53., -52., -53., -59.],\n",
       "       [  1., -44., -41., -41., -41., -52., -50.],\n",
       "       [  1., -58., -49., -45., -40., -57., -47.],\n",
       "       [  1., -52., -48., -49., -45., -62., -52.],\n",
       "       [  1., -47., -45., -59., -46., -53., -54.],\n",
       "       [  1., -56., -52., -50., -46., -51., -53.],\n",
       "       [  1., -56., -62., -49., -40., -52., -51.],\n",
       "       [  1., -52., -41., -46., -45., -56., -54.],\n",
       "       [  1., -54., -42., -47., -44., -49., -47.],\n",
       "       [  1., -47., -47., -49., -47., -43., -39.],\n",
       "       [  1., -46., -40., -50., -47., -54., -54.],\n",
       "       [  1., -50., -50., -55., -47., -62., -61.],\n",
       "       [  1., -47., -56., -51., -50., -56., -57.],\n",
       "       [  1., -50., -52., -54., -47., -66., -59.],\n",
       "       [  1., -47., -56., -50., -44., -57., -56.],\n",
       "       [  1., -52., -50., -51., -49., -57., -57.],\n",
       "       [  1., -45., -45., -59., -45., -58., -51.],\n",
       "       [  1., -53., -49., -49., -47., -50., -55.],\n",
       "       [  1., -48., -42., -45., -49., -48., -47.],\n",
       "       [  1., -40., -36., -47., -45., -45., -44.],\n",
       "       [  1., -61., -48., -46., -43., -54., -49.],\n",
       "       [  1., -59., -49., -46., -44., -52., -49.],\n",
       "       [  1., -45., -47., -41., -39., -64., -52.],\n",
       "       [  1., -40., -42., -41., -40., -63., -54.],\n",
       "       [  1., -79., -54., -45., -42., -48., -58.],\n",
       "       [  1., -51., -50., -42., -40., -50., -58.],\n",
       "       [  1., -45., -41., -53., -44., -63., -56.],\n",
       "       [  1., -51., -46., -57., -43., -57., -55.],\n",
       "       [  2., -45., -41., -38., -40., -51., -60.],\n",
       "       [  2., -44., -41., -40., -41., -51., -50.],\n",
       "       [  2., -52., -53., -46., -43., -52., -58.],\n",
       "       [  2., -55., -58., -45., -43., -49., -51.],\n",
       "       [  2., -44., -41., -42., -41., -44., -46.],\n",
       "       [  2., -41., -41., -41., -40., -47., -51.],\n",
       "       [  2., -49., -40., -37., -34., -48., -45.],\n",
       "       [  2., -47., -40., -39., -35., -48., -45.],\n",
       "       [  2., -43., -42., -42., -36., -57., -56.],\n",
       "       [  2., -43., -41., -49., -39., -55., -51.],\n",
       "       [  2., -41., -38., -34., -36., -46., -40.],\n",
       "       [  2., -39., -36., -36., -35., -46., -40.],\n",
       "       [  2., -40., -40., -35., -36., -39., -39.],\n",
       "       [  2., -46., -41., -35., -31., -43., -37.],\n",
       "       [  2., -45., -38., -41., -35., -48., -39.],\n",
       "       [  2., -56., -53., -41., -41., -46., -45.],\n",
       "       [  2., -46., -38., -39., -34., -44., -39.],\n",
       "       [  2., -47., -41., -40., -39., -61., -47.],\n",
       "       [  2., -46., -41., -41., -40., -57., -47.],\n",
       "       [  2., -58., -46., -47., -41., -47., -44.],\n",
       "       [  2., -50., -46., -47., -42., -51., -48.],\n",
       "       [  2., -43., -41., -44., -38., -43., -41.],\n",
       "       [  2., -60., -53., -38., -38., -40., -35.],\n",
       "       [  2., -59., -58., -40., -43., -40., -35.],\n",
       "       [  2., -67., -62., -46., -47., -48., -45.],\n",
       "       [  2., -45., -45., -59., -50., -50., -47.],\n",
       "       [  2., -45., -41., -48., -46., -34., -33.],\n",
       "       [  2., -42., -44., -48., -51., -48., -44.],\n",
       "       [  2., -41., -42., -47., -48., -51., -46.],\n",
       "       [  2., -40., -35., -53., -43., -57., -57.]])"
      ]
     },
     "execution_count": 84,
     "metadata": {},
     "output_type": "execute_result"
    }
   ],
   "source": [
    "my_data"
   ]
  },
  {
   "cell_type": "code",
   "execution_count": 90,
   "metadata": {},
   "outputs": [],
   "source": [
    "X = np.asarray(my_data[:,1:])\n",
    "y = np.asarray(my_data[:,0])"
   ]
  },
  {
   "cell_type": "code",
   "execution_count": 91,
   "metadata": {},
   "outputs": [],
   "source": [
    "scaler = preprocessing.StandardScaler().fit(X)\n",
    "X_scaled = scaler.transform(X)"
   ]
  },
  {
   "cell_type": "code",
   "execution_count": 134,
   "metadata": {},
   "outputs": [],
   "source": [
    "def bmatrix(a):\n",
    "    \"\"\"Returns a LaTeX bmatrix\n",
    "\n",
    "    :a: numpy array\n",
    "    :returns: LaTeX bmatrix as a string\n",
    "    \"\"\"\n",
    "    if len(a.shape) > 2:\n",
    "        raise ValueError('bmatrix can at most display two dimensions')\n",
    "    temp_string = np.array2string(a, formatter={'float_kind':lambda x: \"{:.4f}\".format(x)})\n",
    "    lines = temp_string.replace('[', '').replace(']', '').splitlines()\n",
    "    rv = [r'\\begin{bmatrix}']\n",
    "    rv += ['  ' + ', '.join(l.split()) + r'\\\\' for l in lines]\n",
    "    rv +=  [r'\\end{bmatrix}']\n",
    "    return '\\n'.join(rv)"
   ]
  },
  {
   "cell_type": "code",
   "execution_count": 92,
   "metadata": {},
   "outputs": [
    {
     "data": {
      "text/plain": [
       "array([-49.12698413, -45.82539683, -45.77777778, -42.63492063,\n",
       "       -51.38095238, -49.06349206])"
      ]
     },
     "execution_count": 92,
     "metadata": {},
     "output_type": "execute_result"
    }
   ],
   "source": [
    "scaler.mean_"
   ]
  },
  {
   "cell_type": "code",
   "execution_count": 93,
   "metadata": {},
   "outputs": [
    {
     "data": {
      "text/plain": [
       "array([7.13696406, 6.54056859, 5.99323546, 4.79517478, 6.51841974,\n",
       "       6.92332844])"
      ]
     },
     "execution_count": 93,
     "metadata": {},
     "output_type": "execute_result"
    }
   ],
   "source": [
    "scaler.scale_"
   ]
  },
  {
   "cell_type": "code",
   "execution_count": 136,
   "metadata": {},
   "outputs": [
    {
     "data": {
      "text/plain": [
       "'\\\\begin{bmatrix}\\n  7.1370, 6.5406, 5.9932, 4.7952, 6.5184, 6.9233\\\\\\\\\\n\\\\end{bmatrix}'"
      ]
     },
     "execution_count": 136,
     "metadata": {},
     "output_type": "execute_result"
    }
   ],
   "source": [
    "bmatrix(scaler.scale_)"
   ]
  },
  {
   "cell_type": "code",
   "execution_count": null,
   "metadata": {},
   "outputs": [],
   "source": [
    "bmatrix(scaler.mean_)"
   ]
  },
  {
   "cell_type": "code",
   "execution_count": 113,
   "metadata": {},
   "outputs": [],
   "source": [
    "X_train, X_test, y_train, y_test = train_test_split(X_scaled, y, stratify=y, test_size=0.2)"
   ]
  },
  {
   "cell_type": "code",
   "execution_count": 117,
   "metadata": {},
   "outputs": [],
   "source": [
    "clf = LogisticRegression(random_state=0).fit(X_train, y_train)"
   ]
  },
  {
   "cell_type": "code",
   "execution_count": 118,
   "metadata": {
    "scrolled": true
   },
   "outputs": [
    {
     "data": {
      "text/plain": [
       "0.8412698412698413"
      ]
     },
     "execution_count": 118,
     "metadata": {},
     "output_type": "execute_result"
    }
   ],
   "source": [
    "clf.score(X_scaled, y)"
   ]
  },
  {
   "cell_type": "code",
   "execution_count": 119,
   "metadata": {},
   "outputs": [
    {
     "data": {
      "text/plain": [
       "0.9230769230769231"
      ]
     },
     "execution_count": 119,
     "metadata": {},
     "output_type": "execute_result"
    }
   ],
   "source": [
    "clf.score(X_test, y_test)"
   ]
  },
  {
   "cell_type": "code",
   "execution_count": 120,
   "metadata": {
    "scrolled": true
   },
   "outputs": [
    {
     "data": {
      "text/plain": [
       "array([[ 0.67916347, -0.05254733,  0.47520648,  0.59513537,  0.66723814,\n",
       "         0.51040948]])"
      ]
     },
     "execution_count": 120,
     "metadata": {},
     "output_type": "execute_result"
    }
   ],
   "source": [
    "clf.coef_"
   ]
  },
  {
   "cell_type": "code",
   "execution_count": 121,
   "metadata": {
    "scrolled": true
   },
   "outputs": [
    {
     "data": {
      "text/plain": [
       "array([-0.02472834])"
      ]
     },
     "execution_count": 121,
     "metadata": {},
     "output_type": "execute_result"
    }
   ],
   "source": [
    "clf.intercept_"
   ]
  },
  {
   "cell_type": "code",
   "execution_count": 137,
   "metadata": {},
   "outputs": [
    {
     "data": {
      "text/plain": [
       "'\\\\begin{bmatrix}\\n  0.6792, -0.0525, 0.4752, 0.5951, 0.6672, 0.5104\\\\\\\\\\n\\\\end{bmatrix}'"
      ]
     },
     "execution_count": 137,
     "metadata": {},
     "output_type": "execute_result"
    }
   ],
   "source": [
    "bmatrix(clf.coef_)"
   ]
  },
  {
   "cell_type": "code",
   "execution_count": 138,
   "metadata": {},
   "outputs": [
    {
     "data": {
      "text/plain": [
       "'\\\\begin{bmatrix}\\n  -0.0247\\\\\\\\\\n\\\\end{bmatrix}'"
      ]
     },
     "execution_count": 138,
     "metadata": {},
     "output_type": "execute_result"
    }
   ],
   "source": [
    "bmatrix(clf.intercept_)"
   ]
  },
  {
   "cell_type": "code",
   "execution_count": 122,
   "metadata": {},
   "outputs": [
    {
     "data": {
      "text/plain": [
       "array([[0.78189465, 0.21810535],\n",
       "       [0.83655422, 0.16344578],\n",
       "       [0.48499283, 0.51500717],\n",
       "       [0.14828111, 0.85171889],\n",
       "       [0.73606435, 0.26393565],\n",
       "       [0.57463656, 0.42536344],\n",
       "       [0.8117365 , 0.1882635 ],\n",
       "       [0.89408436, 0.10591564],\n",
       "       [0.8350063 , 0.1649937 ],\n",
       "       [0.06367802, 0.93632198],\n",
       "       [0.37358245, 0.62641755],\n",
       "       [0.54446134, 0.45553866],\n",
       "       [0.01115885, 0.98884115]])"
      ]
     },
     "execution_count": 122,
     "metadata": {},
     "output_type": "execute_result"
    }
   ],
   "source": [
    "clf.predict_proba(X_test)"
   ]
  },
  {
   "cell_type": "code",
   "execution_count": 123,
   "metadata": {},
   "outputs": [
    {
     "data": {
      "text/plain": [
       "array([1., 1., 2., 2., 2., 1., 1., 1., 1., 2., 2., 1., 2.])"
      ]
     },
     "execution_count": 123,
     "metadata": {},
     "output_type": "execute_result"
    }
   ],
   "source": [
    "y_test"
   ]
  },
  {
   "cell_type": "code",
   "execution_count": null,
   "metadata": {},
   "outputs": [],
   "source": []
  }
 ],
 "metadata": {
  "kernelspec": {
   "display_name": "Python 3",
   "language": "python",
   "name": "python3"
  },
  "language_info": {
   "codemirror_mode": {
    "name": "ipython",
    "version": 3
   },
   "file_extension": ".py",
   "mimetype": "text/x-python",
   "name": "python",
   "nbconvert_exporter": "python",
   "pygments_lexer": "ipython3",
   "version": "3.8.5"
  }
 },
 "nbformat": 4,
 "nbformat_minor": 4
}
