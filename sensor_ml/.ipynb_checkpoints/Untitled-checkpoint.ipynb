{
 "cells": [
  {
   "cell_type": "code",
   "execution_count": 86,
   "metadata": {},
   "outputs": [],
   "source": [
    "import pandas as pd\n",
    "import numpy as np\n",
    "\n",
    "import matplotlib.pyplot as plt"
   ]
  },
  {
   "cell_type": "code",
   "execution_count": 87,
   "metadata": {},
   "outputs": [],
   "source": [
    "data = np.zeros([535, 5])"
   ]
  },
  {
   "cell_type": "code",
   "execution_count": 88,
   "metadata": {},
   "outputs": [],
   "source": [
    "f = open('data.log')\n",
    "row = -1\n",
    "col = 0\n",
    "for line in f.readlines():\n",
    "    string = line.split(\":\")\n",
    "    if len(string) != 1:\n",
    "        data[row, col] = string[1]\n",
    "        col = col + 1\n",
    "    else:\n",
    "        row = row + 1\n",
    "        col = 0"
   ]
  },
  {
   "cell_type": "code",
   "execution_count": 89,
   "metadata": {},
   "outputs": [],
   "source": [
    "data = np.concatenate([data[-1,:][np.newaxis,:],data[:-1]])"
   ]
  },
  {
   "cell_type": "code",
   "execution_count": 90,
   "metadata": {},
   "outputs": [
    {
     "data": {
      "text/html": [
       "<div>\n",
       "<style scoped>\n",
       "    .dataframe tbody tr th:only-of-type {\n",
       "        vertical-align: middle;\n",
       "    }\n",
       "\n",
       "    .dataframe tbody tr th {\n",
       "        vertical-align: top;\n",
       "    }\n",
       "\n",
       "    .dataframe thead th {\n",
       "        text-align: right;\n",
       "    }\n",
       "</style>\n",
       "<table border=\"1\" class=\"dataframe\">\n",
       "  <thead>\n",
       "    <tr style=\"text-align: right;\">\n",
       "      <th></th>\n",
       "      <th>tx_data</th>\n",
       "      <th>sender</th>\n",
       "      <th>next_freq</th>\n",
       "      <th>rssi</th>\n",
       "      <th>lqi</th>\n",
       "    </tr>\n",
       "  </thead>\n",
       "  <tbody>\n",
       "    <tr>\n",
       "      <th>0</th>\n",
       "      <td>131.0</td>\n",
       "      <td>2.0</td>\n",
       "      <td>51.0</td>\n",
       "      <td>-49.0</td>\n",
       "      <td>44.0</td>\n",
       "    </tr>\n",
       "    <tr>\n",
       "      <th>1</th>\n",
       "      <td>131.0</td>\n",
       "      <td>2.0</td>\n",
       "      <td>101.0</td>\n",
       "      <td>-46.0</td>\n",
       "      <td>44.0</td>\n",
       "    </tr>\n",
       "    <tr>\n",
       "      <th>2</th>\n",
       "      <td>131.0</td>\n",
       "      <td>2.0</td>\n",
       "      <td>151.0</td>\n",
       "      <td>-43.0</td>\n",
       "      <td>44.0</td>\n",
       "    </tr>\n",
       "    <tr>\n",
       "      <th>3</th>\n",
       "      <td>131.0</td>\n",
       "      <td>2.0</td>\n",
       "      <td>201.0</td>\n",
       "      <td>-41.0</td>\n",
       "      <td>43.0</td>\n",
       "    </tr>\n",
       "    <tr>\n",
       "      <th>4</th>\n",
       "      <td>131.0</td>\n",
       "      <td>2.0</td>\n",
       "      <td>251.0</td>\n",
       "      <td>-39.0</td>\n",
       "      <td>43.0</td>\n",
       "    </tr>\n",
       "    <tr>\n",
       "      <th>...</th>\n",
       "      <td>...</td>\n",
       "      <td>...</td>\n",
       "      <td>...</td>\n",
       "      <td>...</td>\n",
       "      <td>...</td>\n",
       "    </tr>\n",
       "    <tr>\n",
       "      <th>530</th>\n",
       "      <td>448.0</td>\n",
       "      <td>4.0</td>\n",
       "      <td>101.0</td>\n",
       "      <td>-44.0</td>\n",
       "      <td>43.0</td>\n",
       "    </tr>\n",
       "    <tr>\n",
       "      <th>531</th>\n",
       "      <td>448.0</td>\n",
       "      <td>4.0</td>\n",
       "      <td>151.0</td>\n",
       "      <td>-42.0</td>\n",
       "      <td>41.0</td>\n",
       "    </tr>\n",
       "    <tr>\n",
       "      <th>532</th>\n",
       "      <td>448.0</td>\n",
       "      <td>4.0</td>\n",
       "      <td>201.0</td>\n",
       "      <td>-41.0</td>\n",
       "      <td>42.0</td>\n",
       "    </tr>\n",
       "    <tr>\n",
       "      <th>533</th>\n",
       "      <td>448.0</td>\n",
       "      <td>4.0</td>\n",
       "      <td>251.0</td>\n",
       "      <td>-41.0</td>\n",
       "      <td>42.0</td>\n",
       "    </tr>\n",
       "    <tr>\n",
       "      <th>534</th>\n",
       "      <td>448.0</td>\n",
       "      <td>4.0</td>\n",
       "      <td>1.0</td>\n",
       "      <td>-41.0</td>\n",
       "      <td>42.0</td>\n",
       "    </tr>\n",
       "  </tbody>\n",
       "</table>\n",
       "<p>535 rows × 5 columns</p>\n",
       "</div>"
      ],
      "text/plain": [
       "     tx_data  sender  next_freq  rssi   lqi\n",
       "0      131.0     2.0       51.0 -49.0  44.0\n",
       "1      131.0     2.0      101.0 -46.0  44.0\n",
       "2      131.0     2.0      151.0 -43.0  44.0\n",
       "3      131.0     2.0      201.0 -41.0  43.0\n",
       "4      131.0     2.0      251.0 -39.0  43.0\n",
       "..       ...     ...        ...   ...   ...\n",
       "530    448.0     4.0      101.0 -44.0  43.0\n",
       "531    448.0     4.0      151.0 -42.0  41.0\n",
       "532    448.0     4.0      201.0 -41.0  42.0\n",
       "533    448.0     4.0      251.0 -41.0  42.0\n",
       "534    448.0     4.0        1.0 -41.0  42.0\n",
       "\n",
       "[535 rows x 5 columns]"
      ]
     },
     "execution_count": 90,
     "metadata": {},
     "output_type": "execute_result"
    }
   ],
   "source": [
    "data = pd.DataFrame(data, columns=[\"tx_data\", \"sender\", \"next_freq\", \"rssi\", \"lqi\"])\n",
    "data"
   ]
  },
  {
   "cell_type": "code",
   "execution_count": 91,
   "metadata": {},
   "outputs": [
    {
     "data": {
      "text/plain": [
       "448.0    174\n",
       "131.0    150\n",
       "130.0    123\n",
       "447.0     88\n",
       "Name: tx_data, dtype: int64"
      ]
     },
     "execution_count": 91,
     "metadata": {},
     "output_type": "execute_result"
    }
   ],
   "source": [
    "data['tx_data'].value_counts()"
   ]
  },
  {
   "cell_type": "code",
   "execution_count": 92,
   "metadata": {},
   "outputs": [],
   "source": [
    "data.iloc[:,0][data.iloc[:,0] == 130.0] = 1\n",
    "data.iloc[:,0][data.iloc[:,0] == 131.0] = 1\n",
    "data.iloc[:,0][data.iloc[:,0] == 447.0] = 2\n",
    "data.iloc[:,0][data.iloc[:,0] == 448.0] = 2"
   ]
  },
  {
   "cell_type": "code",
   "execution_count": 93,
   "metadata": {},
   "outputs": [],
   "source": [
    "data['diff'] = data.sender.diff()\n",
    "data.iloc[0,-1] = -1"
   ]
  },
  {
   "cell_type": "code",
   "execution_count": 94,
   "metadata": {
    "scrolled": true
   },
   "outputs": [
    {
     "data": {
      "text/html": [
       "<div>\n",
       "<style scoped>\n",
       "    .dataframe tbody tr th:only-of-type {\n",
       "        vertical-align: middle;\n",
       "    }\n",
       "\n",
       "    .dataframe tbody tr th {\n",
       "        vertical-align: top;\n",
       "    }\n",
       "\n",
       "    .dataframe thead th {\n",
       "        text-align: right;\n",
       "    }\n",
       "</style>\n",
       "<table border=\"1\" class=\"dataframe\">\n",
       "  <thead>\n",
       "    <tr style=\"text-align: right;\">\n",
       "      <th></th>\n",
       "      <th>tx_data</th>\n",
       "      <th>sender</th>\n",
       "      <th>next_freq</th>\n",
       "      <th>rssi</th>\n",
       "      <th>lqi</th>\n",
       "      <th>diff</th>\n",
       "    </tr>\n",
       "  </thead>\n",
       "  <tbody>\n",
       "    <tr>\n",
       "      <th>0</th>\n",
       "      <td>1.0</td>\n",
       "      <td>2.0</td>\n",
       "      <td>51.0</td>\n",
       "      <td>-49.0</td>\n",
       "      <td>44.0</td>\n",
       "      <td>-1.0</td>\n",
       "    </tr>\n",
       "    <tr>\n",
       "      <th>1</th>\n",
       "      <td>1.0</td>\n",
       "      <td>2.0</td>\n",
       "      <td>101.0</td>\n",
       "      <td>-46.0</td>\n",
       "      <td>44.0</td>\n",
       "      <td>0.0</td>\n",
       "    </tr>\n",
       "    <tr>\n",
       "      <th>2</th>\n",
       "      <td>1.0</td>\n",
       "      <td>2.0</td>\n",
       "      <td>151.0</td>\n",
       "      <td>-43.0</td>\n",
       "      <td>44.0</td>\n",
       "      <td>0.0</td>\n",
       "    </tr>\n",
       "    <tr>\n",
       "      <th>3</th>\n",
       "      <td>1.0</td>\n",
       "      <td>2.0</td>\n",
       "      <td>201.0</td>\n",
       "      <td>-41.0</td>\n",
       "      <td>43.0</td>\n",
       "      <td>0.0</td>\n",
       "    </tr>\n",
       "    <tr>\n",
       "      <th>4</th>\n",
       "      <td>1.0</td>\n",
       "      <td>2.0</td>\n",
       "      <td>251.0</td>\n",
       "      <td>-39.0</td>\n",
       "      <td>43.0</td>\n",
       "      <td>0.0</td>\n",
       "    </tr>\n",
       "    <tr>\n",
       "      <th>...</th>\n",
       "      <td>...</td>\n",
       "      <td>...</td>\n",
       "      <td>...</td>\n",
       "      <td>...</td>\n",
       "      <td>...</td>\n",
       "      <td>...</td>\n",
       "    </tr>\n",
       "    <tr>\n",
       "      <th>530</th>\n",
       "      <td>2.0</td>\n",
       "      <td>4.0</td>\n",
       "      <td>101.0</td>\n",
       "      <td>-44.0</td>\n",
       "      <td>43.0</td>\n",
       "      <td>0.0</td>\n",
       "    </tr>\n",
       "    <tr>\n",
       "      <th>531</th>\n",
       "      <td>2.0</td>\n",
       "      <td>4.0</td>\n",
       "      <td>151.0</td>\n",
       "      <td>-42.0</td>\n",
       "      <td>41.0</td>\n",
       "      <td>0.0</td>\n",
       "    </tr>\n",
       "    <tr>\n",
       "      <th>532</th>\n",
       "      <td>2.0</td>\n",
       "      <td>4.0</td>\n",
       "      <td>201.0</td>\n",
       "      <td>-41.0</td>\n",
       "      <td>42.0</td>\n",
       "      <td>0.0</td>\n",
       "    </tr>\n",
       "    <tr>\n",
       "      <th>533</th>\n",
       "      <td>2.0</td>\n",
       "      <td>4.0</td>\n",
       "      <td>251.0</td>\n",
       "      <td>-41.0</td>\n",
       "      <td>42.0</td>\n",
       "      <td>0.0</td>\n",
       "    </tr>\n",
       "    <tr>\n",
       "      <th>534</th>\n",
       "      <td>2.0</td>\n",
       "      <td>4.0</td>\n",
       "      <td>1.0</td>\n",
       "      <td>-41.0</td>\n",
       "      <td>42.0</td>\n",
       "      <td>0.0</td>\n",
       "    </tr>\n",
       "  </tbody>\n",
       "</table>\n",
       "<p>535 rows × 6 columns</p>\n",
       "</div>"
      ],
      "text/plain": [
       "     tx_data  sender  next_freq  rssi   lqi  diff\n",
       "0        1.0     2.0       51.0 -49.0  44.0  -1.0\n",
       "1        1.0     2.0      101.0 -46.0  44.0   0.0\n",
       "2        1.0     2.0      151.0 -43.0  44.0   0.0\n",
       "3        1.0     2.0      201.0 -41.0  43.0   0.0\n",
       "4        1.0     2.0      251.0 -39.0  43.0   0.0\n",
       "..       ...     ...        ...   ...   ...   ...\n",
       "530      2.0     4.0      101.0 -44.0  43.0   0.0\n",
       "531      2.0     4.0      151.0 -42.0  41.0   0.0\n",
       "532      2.0     4.0      201.0 -41.0  42.0   0.0\n",
       "533      2.0     4.0      251.0 -41.0  42.0   0.0\n",
       "534      2.0     4.0        1.0 -41.0  42.0   0.0\n",
       "\n",
       "[535 rows x 6 columns]"
      ]
     },
     "execution_count": 94,
     "metadata": {},
     "output_type": "execute_result"
    }
   ],
   "source": [
    "data"
   ]
  },
  {
   "cell_type": "code",
   "execution_count": 138,
   "metadata": {},
   "outputs": [
    {
     "data": {
      "text/plain": [
       " 0.0    442\n",
       " 1.0     62\n",
       "-2.0     30\n",
       "-1.0      1\n",
       "Name: diff, dtype: int64"
      ]
     },
     "execution_count": 138,
     "metadata": {},
     "output_type": "execute_result"
    }
   ],
   "source": [
    "data['diff'].value_counts()"
   ]
  },
  {
   "cell_type": "code",
   "execution_count": 160,
   "metadata": {},
   "outputs": [],
   "source": [
    "stacked_data = np.zeros([data['diff'].value_counts()[-2]*3+3, 8])"
   ]
  },
  {
   "cell_type": "code",
   "execution_count": 161,
   "metadata": {},
   "outputs": [],
   "source": [
    "sender = 0\n",
    "row_num = -1\n",
    "for index,row in data.iterrows():\n",
    "    if row['diff'] != 0:\n",
    "        sender = row.sender\n",
    "        row_num += 1\n",
    "    stacked_data[row_num, 0] = row.tx_data\n",
    "    stacked_data[row_num, 1] = sender\n",
    "    if row.next_freq == 51.0:\n",
    "        stacked_data[row_num, 2] = row.rssi\n",
    "    elif row.next_freq == 101.0:\n",
    "        stacked_data[row_num, 3] = row.rssi\n",
    "    elif row.next_freq == 151.0:\n",
    "        stacked_data[row_num, 4] = row.rssi\n",
    "    elif row.next_freq == 201.0:\n",
    "        stacked_data[row_num, 5] = row.rssi\n",
    "    elif row.next_freq == 251.0:\n",
    "        stacked_data[row_num, 6] = row.rssi\n",
    "    elif row.next_freq == 1.0:\n",
    "        stacked_data[row_num, 7] = row.rssi"
   ]
  },
  {
   "cell_type": "code",
   "execution_count": 162,
   "metadata": {
    "scrolled": false
   },
   "outputs": [],
   "source": [
    "stacked_data = stacked_data[:,:-1]"
   ]
  },
  {
   "cell_type": "code",
   "execution_count": 164,
   "metadata": {},
   "outputs": [
    {
     "data": {
      "text/plain": [
       "array([[  1.,   2., -49., -46., -43., -41., -39.],\n",
       "       [  1.,   3., -56., -57., -55., -52., -50.],\n",
       "       [  1.,   4., -59., -62., -70., -65., -58.],\n",
       "       [  1.,   2., -50., -49., -50., -50., -51.],\n",
       "       [  1.,   3., -46., -46., -45., -42., -41.],\n",
       "       [  1.,   4., -58., -63., -73., -64., -55.],\n",
       "       [  1.,   2., -50., -49., -46., -44., -42.],\n",
       "       [  1.,   3., -54., -50., -47., -46., -43.],\n",
       "       [  1.,   4., -41., -44., -45., -43., -41.],\n",
       "       [  1.,   2., -46., -47., -49., -48., -49.],\n",
       "       [  1.,   3., -50., -48., -47., -44., -42.],\n",
       "       [  1.,   4., -51., -50., -49., -47., -46.],\n",
       "       [  1.,   2., -46., -46., -48., -47., -45.],\n",
       "       [  1.,   3., -52., -50., -51., -50., -51.],\n",
       "       [  1.,   4., -48., -48., -48., -47., -48.],\n",
       "       [  1.,   2., -42., -41., -40., -41., -45.],\n",
       "       [  1.,   3., -49., -48., -47., -45., -42.],\n",
       "       [  1.,   4., -45., -49., -52., -48., -48.],\n",
       "       [  1.,   2., -41., -43., -45., -43., -41.],\n",
       "       [  1.,   3., -45., -44., -46., -47., -44.],\n",
       "       [  1.,   4., -38., -38., -38., -39., -40.],\n",
       "       [  1.,   2., -50., -50., -55., -45., -41.],\n",
       "       [  1.,   3., -78., -59., -53., -49., -46.],\n",
       "       [  1.,   4., -46., -45., -53., -51., -51.],\n",
       "       [  1.,   2., -42., -41., -41., -41., -44.],\n",
       "       [  1.,   3., -48., -49., -46., -43., -45.],\n",
       "       [  1.,   4., -56., -65., -53., -51., -51.],\n",
       "       [  1.,   2., -41., -43., -43., -40., -36.],\n",
       "       [  1.,   3., -44., -42., -43., -45., -44.],\n",
       "       [  1.,   4., -47., -57., -52., -42., -38.],\n",
       "       [  1.,   2., -35., -35., -37., -38., -35.],\n",
       "       [  1.,   3., -58., -53., -47., -46., -45.],\n",
       "       [  1.,   4., -54., -52., -49., -53., -56.],\n",
       "       [  1.,   2., -34., -32., -31., -30., -29.],\n",
       "       [  1.,   3., -64., -59., -58., -58., -50.],\n",
       "       [  1.,   4., -56., -55., -57., -57., -47.],\n",
       "       [  1.,   2., -58., -80., -56., -50., -46.],\n",
       "       [  1.,   3., -49., -48., -47., -47., -51.],\n",
       "       [  1.,   4., -52., -58., -58., -57., -53.],\n",
       "       [  1.,   2., -42., -42., -42., -42., -46.],\n",
       "       [  1.,   3., -54., -47., -46., -44., -41.],\n",
       "       [  1.,   4., -56., -51., -47., -46., -44.],\n",
       "       [  1.,   2., -43., -44., -47., -53., -45.],\n",
       "       [  1.,   3., -59., -65., -61., -58., -56.],\n",
       "       [  1.,   4., -52., -50., -47., -47., -44.],\n",
       "       [  1.,   2., -49., -52., -57., -52., -49.],\n",
       "       [  1.,   3., -56., -57., -59., -53., -49.],\n",
       "       [  1.,   4., -47., -45., -44., -42., -42.],\n",
       "       [  2.,   2., -49., -47., -47., -46., -45.],\n",
       "       [  2.,   3., -49., -50., -47., -46., -45.],\n",
       "       [  2.,   4., -35., -36., -35., -34., -34.],\n",
       "       [  2.,   2., -40., -39., -39., -40., -41.],\n",
       "       [  2.,   3., -57., -63., -64., -66., -52.],\n",
       "       [  2.,   4., -50., -46., -43., -44., -45.],\n",
       "       [  2.,   2., -52., -70., -52., -47., -46.],\n",
       "       [  2.,   3., -41., -40., -39., -38., -38.],\n",
       "       [  2.,   4., -47., -47., -44., -42., -40.],\n",
       "       [  2.,   2., -45., -46., -47., -46., -46.],\n",
       "       [  2.,   3., -35., -35., -34., -33., -33.],\n",
       "       [  2.,   4., -36., -35., -35., -35., -35.],\n",
       "       [  2.,   2., -45., -45., -46., -46., -49.],\n",
       "       [  2.,   3., -47., -49., -48., -46., -45.],\n",
       "       [  2.,   4., -36., -35., -35., -35., -35.],\n",
       "       [  2.,   2., -55., -54., -60., -70., -58.],\n",
       "       [  2.,   3., -47., -47., -47., -49., -50.],\n",
       "       [  2.,   4., -40., -42., -45., -46., -45.],\n",
       "       [  2.,   2., -37., -35., -35., -36., -39.],\n",
       "       [  2.,   3., -54., -53., -51., -53., -57.],\n",
       "       [  2.,   4., -42., -44., -46., -48., -48.],\n",
       "       [  2.,   2., -46., -45., -46., -47., -46.],\n",
       "       [  2.,   3., -52., -52., -53., -62., -57.],\n",
       "       [  2.,   4., -41., -41., -41., -40., -39.],\n",
       "       [  2.,   2., -35., -39., -37., -35., -35.],\n",
       "       [  2.,   3., -59., -53., -51., -51., -51.],\n",
       "       [  2.,   4., -51., -50., -52., -54., -55.],\n",
       "       [  2.,   2., -43., -41., -41., -41., -42.],\n",
       "       [  2.,   3., -51., -50., -50., -52., -58.],\n",
       "       [  2.,   4., -44., -44., -43., -44., -45.],\n",
       "       [  2.,   2., -45., -58., -56., -53., -50.],\n",
       "       [  2.,   3., -51., -52., -49., -45., -44.],\n",
       "       [  2.,   4., -34., -33., -34., -34., -34.],\n",
       "       [  2.,   2., -36., -35., -34., -34., -35.],\n",
       "       [  2.,   3., -40., -39., -38., -39., -40.],\n",
       "       [  2.,   4., -39., -40., -40., -41., -43.],\n",
       "       [  2.,   2., -55., -52., -52., -58., -49.],\n",
       "       [  2.,   3., -39., -38., -39., -40., -42.],\n",
       "       [  2.,   4., -37., -35., -34., -33., -32.],\n",
       "       [  2.,   2., -43., -41., -41., -45., -47.],\n",
       "       [  2.,   3., -53., -52., -51., -53., -52.],\n",
       "       [  2.,   4., -44., -42., -41., -40., -41.],\n",
       "       [  2.,   2., -41., -41., -42., -45., -42.],\n",
       "       [  2.,   3., -47., -45., -42., -40., -40.],\n",
       "       [  2.,   4., -48., -44., -42., -41., -41.]])"
      ]
     },
     "execution_count": 164,
     "metadata": {},
     "output_type": "execute_result"
    }
   ],
   "source": [
    "stacked_data"
   ]
  },
  {
   "cell_type": "code",
   "execution_count": 167,
   "metadata": {},
   "outputs": [
    {
     "data": {
      "text/plain": [
       "93"
      ]
     },
     "execution_count": 167,
     "metadata": {},
     "output_type": "execute_result"
    }
   ],
   "source": [
    "stacked_data.shape[0]"
   ]
  },
  {
   "cell_type": "code",
   "execution_count": null,
   "metadata": {},
   "outputs": [],
   "source": [
    "stacked_data2 = np.zeros([stacked_data.shape[0]*5, 5])"
   ]
  },
  {
   "cell_type": "code",
   "execution_count": null,
   "metadata": {},
   "outputs": [],
   "source": [
    "data_row = 0\n",
    "row_num = 0\n",
    "while row_num < stacked_data.shape[0]:\n",
    "    col_num = 2\n",
    "    while col_num < 7:\n",
    "        stacked_data2[data_row, 0] = stacked_data[row_num, 0]\n",
    "        stacked_data2[data_row, 1] = 1\n",
    "        stacked_data2[data_row, 2] = stacked_data[row_num, col_num]\n",
    "        stacked_data2[data_row, 3] = stacked_data[row_num+1, col_num]\n",
    "        stacked_data2[data_row, 4] = stacked_data[row_num+2, col_num]\n",
    "        col_num += 1\n",
    "        data_row += 1\n",
    "    row_num += 3"
   ]
  }
 ],
 "metadata": {
  "kernelspec": {
   "display_name": "Python 3",
   "language": "python",
   "name": "python3"
  },
  "language_info": {
   "codemirror_mode": {
    "name": "ipython",
    "version": 3
   },
   "file_extension": ".py",
   "mimetype": "text/x-python",
   "name": "python",
   "nbconvert_exporter": "python",
   "pygments_lexer": "ipython3",
   "version": "3.8.8"
  }
 },
 "nbformat": 4,
 "nbformat_minor": 4
}
